{
 "cells": [
  {
   "cell_type": "markdown",
   "id": "f14cf54b",
   "metadata": {},
   "source": [
    "## Read and split Docs"
   ]
  },
  {
   "cell_type": "code",
   "execution_count": null,
   "id": "262598b6",
   "metadata": {},
   "outputs": [],
   "source": [
    "from langchain_community.document_loaders import PyPDFLoader\n",
    "#load pdf file\n",
    "loader3 = PyPDFLoader(\"BodyPartRecognition.pdf\") #your pdf file path\n",
    "papper = loader3.load_and_split()"
   ]
  },
  {
   "cell_type": "code",
   "execution_count": null,
   "id": "c6baa592",
   "metadata": {},
   "outputs": [],
   "source": [
    "from langchain_text_splitters import RecursiveCharacterTextSplitter\n",
    "\n",
    "text_splitter = RecursiveCharacterTextSplitter(\n",
    "    chunk_size=1200, chunk_overlap=100, add_start_index=True\n",
    ")\n",
    "all_splits = text_splitter.split_documents(papper)"
   ]
  },
  {
   "cell_type": "markdown",
   "id": "f5ec222c",
   "metadata": {},
   "source": [
    "## Generating Embeddings with Ollama\n",
    "\n",
    "1. Download ollama on your own machine from their official website\n",
    "2. Then in your terminal use these commands to download a language model and an embedding model:\n",
    "\n",
    "\n",
    "    ollama run gemma3\n",
    "    \n",
    "    ollama pull all-minilm\n"
   ]
  },
  {
   "cell_type": "code",
   "execution_count": null,
   "id": "bca055d1",
   "metadata": {},
   "outputs": [],
   "source": [
    "from langchain_ollama import OllamaEmbeddings\n",
    "from langchain_chroma import Chroma\n",
    "\n",
    "local_embeddings = OllamaEmbeddings(model=\"all-minilm\")\n",
    "vectorstore = Chroma.from_documents(documents=all_splits, embedding=local_embeddings)"
   ]
  },
  {
   "cell_type": "markdown",
   "id": "35906860",
   "metadata": {},
   "source": [
    "## Implementing the Retrieval System"
   ]
  },
  {
   "cell_type": "code",
   "execution_count": null,
   "id": "4189f641",
   "metadata": {},
   "outputs": [],
   "source": [
    "question = \"what is the body part Recognition?\"\n",
    "\n",
    "# take the top 3 most relevant documents according to the question\n",
    "retriever = vectorstore.as_retriever(search_type=\"similarity\", search_kwargs={\"k\": 3})\n",
    "retrieved_docs = retriever.invoke(question)"
   ]
  },
  {
   "cell_type": "code",
   "execution_count": null,
   "id": "1bbcdd50",
   "metadata": {},
   "outputs": [],
   "source": [
    "context = ' '.join([doc.page_content for doc in retrieved_docs])"
   ]
  },
  {
   "cell_type": "markdown",
   "id": "a3f1248d",
   "metadata": {},
   "source": [
    "## Use LLM to create an answer using the selected part of the document and the question."
   ]
  },
  {
   "cell_type": "code",
   "execution_count": null,
   "id": "fc612751",
   "metadata": {},
   "outputs": [],
   "source": [
    "from langchain_ollama.llms import OllamaLLM\n",
    "\n",
    "#llm = OllamaLLM(model=\"llama3.2:1b\")\n",
    "\n",
    "llm = OllamaLLM(model=\"gemma3\")\n",
    "response = llm.invoke(f\"\"\"Answer the question according to the context given very briefly:\n",
    "           Question: {question}.\n",
    "           Context: {context}\n",
    "\"\"\")"
   ]
  },
  {
   "cell_type": "code",
   "execution_count": null,
   "id": "b6d4afb2",
   "metadata": {},
   "outputs": [],
   "source": [
    "print(response)"
   ]
  }
 ],
 "metadata": {
  "kernelspec": {
   "display_name": "cudaPytorch",
   "language": "python",
   "name": "python3"
  },
  "language_info": {
   "codemirror_mode": {
    "name": "ipython",
    "version": 3
   },
   "file_extension": ".py",
   "mimetype": "text/x-python",
   "name": "python",
   "nbconvert_exporter": "python",
   "pygments_lexer": "ipython3",
   "version": "3.11.5"
  }
 },
 "nbformat": 4,
 "nbformat_minor": 5
}
